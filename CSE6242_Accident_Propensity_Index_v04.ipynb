{
 "cells": [
  {
   "attachments": {},
   "cell_type": "markdown",
   "metadata": {},
   "source": [
    "# Accident Propensity Index Calculation v04\n",
    "--- Ready for Deployment ---\n",
    "\n",
    "Including efficiency features. Assumes that splines are not longer than around 5.5km since for each start point, only accidents within a radius of, in the most sub-optimal case, 5.5km are checked. This takes .08 seconds. When using 10km radius, it takes .17 seconds. With 100km radius it thakes .36 seconds."
   ]
  },
  {
   "attachments": {},
   "cell_type": "markdown",
   "metadata": {},
   "source": [
    "## Import libraries"
   ]
  },
  {
   "cell_type": "code",
   "execution_count": 1,
   "metadata": {},
   "outputs": [],
   "source": [
    "# Import relevant libraries\n",
    "import pandas as pd\n",
    "import math"
   ]
  },
  {
   "attachments": {},
   "cell_type": "markdown",
   "metadata": {},
   "source": [
    "## Efficiency variable"
   ]
  },
  {
   "cell_type": "code",
   "execution_count": 2,
   "metadata": {},
   "outputs": [],
   "source": [
    "# Define the bucket size: 1 would be every longitude/latitude (ca. 110km); 10 is 1/10th (ca. 11km); 20 is 1/20th (5.5km)\n",
    "bucket_length = 20\n",
    "\n",
    "# Maximal distance of accidents from route in kilometers\n",
    "max_distance = 0.05"
   ]
  },
  {
   "attachments": {},
   "cell_type": "markdown",
   "metadata": {},
   "source": [
    "## Split accident data into buckets - run once at start"
   ]
  },
  {
   "cell_type": "code",
   "execution_count": 3,
   "metadata": {},
   "outputs": [],
   "source": [
    "# Read the dataframe with the accident locations -> has only columns ID, Start_Lat, and Start_Lng\n",
    "raw_data = pd.read_csv('accident_locations.csv')\n",
    "\n",
    "# Functions to generate latitude and longitude IDs for the bucketing\n",
    "def get_lat_id(lat):\n",
    "    return int(lat*bucket_length)\n",
    "def get_lng_id(lng):\n",
    "    return int(lng*bucket_length)\n",
    "\n",
    "# Assign bucketing IDs to each accident\n",
    "raw_data[\"lat_id\"] = raw_data[\"Start_Lat\"].apply(get_lat_id)\n",
    "raw_data[\"lng_id\"] = raw_data[\"Start_Lng\"].apply(get_lng_id)\n",
    "\n",
    "# Group by bucketing IDs\n",
    "groups = raw_data.groupby(['lat_id', 'lng_id'])\n",
    "\n",
    "# Iterate over the groups and create individual dataframes\n",
    "for name, group in groups:\n",
    "    # Create the dataframe name\n",
    "    df_name = f\"accidents_{name[0]}_{name[1]}\"\n",
    "    \n",
    "    # Create the dataframe\n",
    "    vars()[df_name] = group.copy()\n",
    "\n",
    "# Get a copy of all global variables\n",
    "global_vars = globals().copy()"
   ]
  },
  {
   "attachments": {},
   "cell_type": "markdown",
   "metadata": {},
   "source": [
    "## Functions to calculate distances and find accidents on route - run once at start"
   ]
  },
  {
   "cell_type": "code",
   "execution_count": 4,
   "metadata": {},
   "outputs": [],
   "source": [
    "# Define a function to calculate the distance between two points\n",
    "def distance(point1, point2):\n",
    "    lat1, lon1 = point1\n",
    "    lat2, lon2 = point2\n",
    "    km_per_lat = 110.574 # km per degree latitude\n",
    "    km_per_lon = 111.320 # km per degree longitude at the equator\n",
    "    dx = (lon2 - lon1) * km_per_lon * math.cos((lat1 + lat2) / 2)\n",
    "    dy = (lat2 - lat1) * km_per_lat\n",
    "    return math.sqrt(dx**2 + dy**2)\n",
    "\n",
    "# Define a function to calculate the distance between a point and a line segment\n",
    "def distance_to_segment(point, segment_start, segment_end):\n",
    "    px, py = point\n",
    "    x1, y1 = segment_start\n",
    "    x2, y2 = segment_end\n",
    "    dx, dy = x2 - x1, y2 - y1\n",
    "    segment_length_squared = dx*dx + dy*dy\n",
    "    if segment_length_squared == 0:\n",
    "        return distance(point, segment_start)\n",
    "    t = max(0, min(1, ((px - x1) * dx + (py - y1) * dy) / segment_length_squared))\n",
    "    x = x1 + t * dx\n",
    "    y = y1 + t * dy\n",
    "    return distance(point, (x, y))\n",
    "\n",
    "# Define a function to find accidents on a given route within a maximum distance\n",
    "def find_accidents_on_route(start_point, end_point, max_distance):\n",
    "    # Create a mask for accidents that are within the maximum distance from the route\n",
    "    mask = data.apply(lambda row: distance_to_segment((row['Start_Lat'], row['Start_Lng']), start_point, end_point) <= max_distance, axis=1)\n",
    "\n",
    "    # Return the accidents that match the mask\n",
    "    accidents = data.loc[mask]\n",
    "    return accidents[\"ID\"]"
   ]
  },
  {
   "attachments": {},
   "cell_type": "markdown",
   "metadata": {},
   "source": [
    "## Find accidents on route - run every time"
   ]
  },
  {
   "cell_type": "code",
   "execution_count": 5,
   "metadata": {},
   "outputs": [],
   "source": [
    "# Route start and end point\n",
    "start_point = (33.77299, -84.39020)\n",
    "end_point = (33.790347, -84.391530)"
   ]
  },
  {
   "cell_type": "code",
   "execution_count": 7,
   "metadata": {},
   "outputs": [
    {
     "data": {
      "text/plain": [
       "2655      A-32296\n",
       "2656      A-32462\n",
       "2660      A-33764\n",
       "2661      A-34199\n",
       "2665      A-37983\n",
       "          ...    \n",
       "4628    A-2835550\n",
       "4629    A-2836706\n",
       "4631    A-2837221\n",
       "4632    A-2838350\n",
       "4637    A-2840353\n",
       "Name: ID, Length: 725, dtype: object"
      ]
     },
     "execution_count": 7,
     "metadata": {},
     "output_type": "execute_result"
    }
   ],
   "source": [
    "# Extract the integer values of the start point lat and lng\n",
    "start_lat = int(start_point[0]*bucket_length)\n",
    "start_lng = int(start_point[1]*bucket_length)\n",
    "\n",
    "# Get the dataframes that match the criteria\n",
    "dfs_to_use = []\n",
    "for lat_offset in [-1, 0, 1]:\n",
    "    for lng_offset in [-1, 0, 1]:\n",
    "        lat_id = start_lat + lat_offset\n",
    "        lng_id = start_lng + lng_offset\n",
    "        df_name = f\"accidents_{lat_id}_{lng_id}\"\n",
    "        if df_name in global_vars and isinstance(global_vars[df_name], pd.DataFrame):\n",
    "            dfs_to_use.append(global_vars[df_name])\n",
    "\n",
    "# Concatenate the dataframes and reset the index\n",
    "combined_df = pd.concat(dfs_to_use)\n",
    "data = combined_df.reset_index(drop=True)\n",
    "\n",
    "# Run after entering the accident, route, and distance data\n",
    "accidents = find_accidents_on_route(start_point, end_point, max_distance)"
   ]
  }
 ],
 "metadata": {
  "kernelspec": {
   "display_name": "base",
   "language": "python",
   "name": "python3"
  },
  "language_info": {
   "codemirror_mode": {
    "name": "ipython",
    "version": 3
   },
   "file_extension": ".py",
   "mimetype": "text/x-python",
   "name": "python",
   "nbconvert_exporter": "python",
   "pygments_lexer": "ipython3",
   "version": "3.9.12"
  },
  "orig_nbformat": 4
 },
 "nbformat": 4,
 "nbformat_minor": 2
}
