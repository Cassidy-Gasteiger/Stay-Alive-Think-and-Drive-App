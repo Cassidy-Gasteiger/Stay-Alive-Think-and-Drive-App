{
 "cells": [
  {
   "attachments": {},
   "cell_type": "markdown",
   "metadata": {},
   "source": [
    "# Accident Propensity Index Calculation"
   ]
  },
  {
   "cell_type": "code",
   "execution_count": 2,
   "metadata": {},
   "outputs": [],
   "source": [
    "import pandas as pd\n",
    "import math\n",
    "\n",
    "# Define a function to calculate the distance between two points\n",
    "def distance(point1, point2):\n",
    "    lat1, lon1 = point1\n",
    "    lat2, lon2 = point2\n",
    "    km_per_lat = 110.574 # km per degree latitude\n",
    "    km_per_lon = 111.320 # km per degree longitude at the equator\n",
    "    dx = (lon2 - lon1) * km_per_lon * math.cos((lat1 + lat2) / 2)\n",
    "    dy = (lat2 - lat1) * km_per_lat\n",
    "    return math.sqrt(dx**2 + dy**2)\n",
    "\n",
    "# Define a function to calculate the distance between a point and a line segment\n",
    "def distance_to_segment(point, segment_start, segment_end):\n",
    "    px, py = point\n",
    "    x1, y1 = segment_start\n",
    "    x2, y2 = segment_end\n",
    "    dx, dy = x2 - x1, y2 - y1\n",
    "    segment_length_squared = dx*dx + dy*dy\n",
    "    if segment_length_squared == 0:\n",
    "        return distance(point, segment_start)\n",
    "    t = max(0, min(1, ((px - x1) * dx + (py - y1) * dy) / segment_length_squared))\n",
    "    x = x1 + t * dx\n",
    "    y = y1 + t * dy\n",
    "    return distance(point, (x, y))\n",
    "\n",
    "# Define a function to find accidents on a given route within a maximum distance\n",
    "def find_accidents_on_route(start_point, end_point, max_distance):\n",
    "    # Create a mask for accidents that are within the maximum distance from the route\n",
    "    mask = data.apply(lambda row: distance_to_segment((row['latitude'], row['longitude']), start_point, end_point) <= max_distance, axis=1)\n",
    "\n",
    "    # Return the accidents that match the mask\n",
    "    return data.loc[mask]"
   ]
  },
  {
   "cell_type": "code",
   "execution_count": 3,
   "metadata": {},
   "outputs": [],
   "source": [
    "# Accident data frame\n",
    "data = pd.read_csv('accident_data.csv')\n",
    "\n",
    "# Route start and end point\n",
    "start_point = (33.781544, -84.403656)\n",
    "end_point = (33.781538, -84.398188)\n",
    "\n",
    "# Maximal distance of accidents from route in kilometers\n",
    "max_distance = 0.05"
   ]
  },
  {
   "cell_type": "code",
   "execution_count": 4,
   "metadata": {},
   "outputs": [
    {
     "name": "stdout",
     "output_type": "stream",
     "text": [
      "Accidents on Route\n",
      "   id   latitude  longitude  severity_score on_route\n",
      "0   1  33.781549 -84.403342               2      yes\n",
      "2   3  33.781534 -84.401825               4      yes\n",
      "3   4  33.781574 -84.403317               1      yes\n",
      "6   7  33.781565 -84.399913               1      yes\n",
      "\n",
      "Accidents off Route\n",
      "   id   latitude  longitude  severity_score on_route\n",
      "1   2  33.786186 -84.401266               3       no\n",
      "4   5  33.780310 -84.403067               3       no\n",
      "5   6  33.782688 -84.401343               2       no\n"
     ]
    }
   ],
   "source": [
    "# Run after entering the accident, route, and distance data\n",
    "accidents = find_accidents_on_route(start_point, end_point, max_distance)\n",
    "print(\"Accidents on Route\")\n",
    "print(accidents)\n",
    "print(\"\\nAccidents off Route\")\n",
    "not_on_route = ~data['id'].isin(accidents['id'])\n",
    "print(data[not_on_route])"
   ]
  }
 ],
 "metadata": {
  "kernelspec": {
   "display_name": "base",
   "language": "python",
   "name": "python3"
  },
  "language_info": {
   "codemirror_mode": {
    "name": "ipython",
    "version": 3
   },
   "file_extension": ".py",
   "mimetype": "text/x-python",
   "name": "python",
   "nbconvert_exporter": "python",
   "pygments_lexer": "ipython3",
   "version": "3.9.12"
  },
  "orig_nbformat": 4
 },
 "nbformat": 4,
 "nbformat_minor": 2
}
