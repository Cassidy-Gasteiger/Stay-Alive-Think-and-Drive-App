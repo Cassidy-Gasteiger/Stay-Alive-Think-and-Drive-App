{
 "cells": [
  {
   "cell_type": "code",
   "execution_count": 1,
   "id": "0ec9396f",
   "metadata": {},
   "outputs": [],
   "source": [
    "%load_ext autoreload\n",
    "%autoreload 2"
   ]
  },
  {
   "cell_type": "code",
   "execution_count": 2,
   "id": "f6e8564c",
   "metadata": {},
   "outputs": [
    {
     "name": "stdout",
     "output_type": "stream",
     "text": [
      "The numpy version is 1.19.5.\n",
      "The scikit-learn version is 0.23.2.\n",
      "The scipy version is 1.8.0.\n"
     ]
    }
   ],
   "source": [
    "import numpy\n",
    "import sklearn\n",
    "import scipy\n",
    "print('The numpy version is {}.'.format(numpy.version.version))\n",
    "print('The scikit-learn version is {}.'.format(sklearn.__version__))\n",
    "print('The scipy version is {}.'.format(scipy.__version__))"
   ]
  },
  {
   "cell_type": "code",
   "execution_count": 3,
   "id": "55101d57",
   "metadata": {},
   "outputs": [],
   "source": [
    "from utilities import *"
   ]
  },
  {
   "cell_type": "code",
   "execution_count": 4,
   "id": "7cc1b30b",
   "metadata": {},
   "outputs": [
    {
     "name": "stdout",
     "output_type": "stream",
     "text": [
      "Nearest airport weather stn to (39.0706,-86.5333) is KBMG\n",
      "Fetching current weather\n"
     ]
    },
    {
     "name": "stderr",
     "output_type": "stream",
     "text": [
      "UserWarning: Trying to unpickle estimator PCA from version 1.2.2 when using version 0.23.2. This might lead to breaking code or invalid results. Use at your own risk.\n"
     ]
    },
    {
     "name": "stdout",
     "output_type": "stream",
     "text": [
      "Densities for weather now\n",
      " density_weather_now_acc:0.000086\n",
      "    density_weather_avg_acc:0.000250\n",
      "    density_weather_avg_hist:0.000045\n",
      "    density_weather_now_hist:0.000026\n",
      "Densities for weather bad\n",
      " density_weather_now_acc:0.000148\n",
      "    density_weather_avg_acc:0.000251\n",
      "    density_weather_avg_hist:0.000045\n",
      "    density_weather_now_hist:0.000039\n",
      "\n",
      "Odds for weather_now=0.58914 vs Odds for weather_bad=0.68083\n",
      "CPU times: user 772 ms, sys: 892 ms, total: 1.66 s\n",
      "Wall time: 1.72 s\n"
     ]
    },
    {
     "data": {
      "text/plain": [
       "(0.5891421955587656, 0.6808261093613555)"
      ]
     },
     "execution_count": 4,
     "metadata": {},
     "output_type": "execute_result"
    }
   ],
   "source": [
    "%%time\n",
    "#Odds for random location\n",
    "get_odds(39.0706,-86.5333)"
   ]
  },
  {
   "cell_type": "code",
   "execution_count": 5,
   "id": "3b5cbe0c",
   "metadata": {},
   "outputs": [
    {
     "name": "stdout",
     "output_type": "stream",
     "text": [
      "Nearest airport weather stn to (40.7128,-74.0060) is KJRB\n",
      "Fetching current weather\n"
     ]
    },
    {
     "name": "stderr",
     "output_type": "stream",
     "text": [
      "UserWarning: Trying to unpickle estimator PCA from version 1.2.2 when using version 0.23.2. This might lead to breaking code or invalid results. Use at your own risk.\n"
     ]
    },
    {
     "name": "stdout",
     "output_type": "stream",
     "text": [
      "Densities for weather now\n",
      " density_weather_now_acc:0.000299\n",
      "    density_weather_avg_acc:0.000326\n",
      "    density_weather_avg_hist:0.000028\n",
      "    density_weather_now_hist:0.000022\n",
      "Densities for weather bad\n",
      " density_weather_now_acc:0.000293\n",
      "    density_weather_avg_acc:0.000269\n",
      "    density_weather_avg_hist:0.000029\n",
      "    density_weather_now_hist:0.000024\n",
      "\n",
      "Odds for weather_now=1.18201 vs Odds for weather_bad=1.28050\n"
     ]
    },
    {
     "data": {
      "text/plain": [
       "(1.1820132652652937, 1.2804967817343402)"
      ]
     },
     "execution_count": 5,
     "metadata": {},
     "output_type": "execute_result"
    }
   ],
   "source": [
    "#Odds for NYC\n",
    "get_odds(40.7128,-74.0060)"
   ]
  },
  {
   "cell_type": "code",
   "execution_count": 6,
   "id": "5dd69f94",
   "metadata": {},
   "outputs": [
    {
     "name": "stdout",
     "output_type": "stream",
     "text": [
      "Nearest airport weather stn to (33.7488,-84.3877) is KFTY\n",
      "Fetching current weather\n"
     ]
    },
    {
     "name": "stderr",
     "output_type": "stream",
     "text": [
      "UserWarning: Trying to unpickle estimator PCA from version 1.2.2 when using version 0.23.2. This might lead to breaking code or invalid results. Use at your own risk.\n"
     ]
    },
    {
     "name": "stdout",
     "output_type": "stream",
     "text": [
      "Densities for weather now\n",
      " density_weather_now_acc:0.000155\n",
      "    density_weather_avg_acc:0.000342\n",
      "    density_weather_avg_hist:0.000017\n",
      "    density_weather_now_hist:0.000021\n",
      "Densities for weather bad\n",
      " density_weather_now_acc:0.000197\n",
      "    density_weather_avg_acc:0.000274\n",
      "    density_weather_avg_hist:0.000018\n",
      "    density_weather_now_hist:0.000021\n",
      "\n",
      "Odds for weather_now=0.38419 vs Odds for weather_bad=0.59011\n"
     ]
    },
    {
     "data": {
      "text/plain": [
       "(0.3841871523322044, 0.5901107628876439)"
      ]
     },
     "execution_count": 6,
     "metadata": {},
     "output_type": "execute_result"
    }
   ],
   "source": [
    "#Odds for Atlanta\n",
    "get_odds(33.7488,-84.3877)"
   ]
  },
  {
   "cell_type": "code",
   "execution_count": null,
   "id": "3984c75b",
   "metadata": {},
   "outputs": [],
   "source": []
  },
  {
   "cell_type": "code",
   "execution_count": null,
   "id": "ab38423e",
   "metadata": {},
   "outputs": [],
   "source": []
  }
 ],
 "metadata": {
  "kernelspec": {
   "display_name": "Python 3 (ipykernel)",
   "language": "python",
   "name": "python3"
  },
  "language_info": {
   "codemirror_mode": {
    "name": "ipython",
    "version": 3
   },
   "file_extension": ".py",
   "mimetype": "text/x-python",
   "name": "python",
   "nbconvert_exporter": "python",
   "pygments_lexer": "ipython3",
   "version": "3.8.16"
  }
 },
 "nbformat": 4,
 "nbformat_minor": 5
}
